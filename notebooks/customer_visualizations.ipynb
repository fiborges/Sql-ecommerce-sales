{
 "cells": [
  {
   "cell_type": "code",
   "execution_count": null,
   "metadata": {},
   "outputs": [],
   "source": [
    "import pandas as pd\n",
    "import matplotlib.pyplot as plt\n",
    "import seaborn as sns\n",
    "\n",
    "# Carregar dados\n",
    "df = pd.read_csv('../data/Amazon_Sale_Report.csv')\n",
    "df['Date'] = pd.to_datetime(df['Date'], format='%m-%d-%y')\n",
    "\n",
    "# Total de vendas por país\n",
    "sales_by_country = df.groupby('ship_country')['Amount'].sum().sort_values(ascending=False)\n",
    "plt.figure(figsize=(14, 7))\n",
    "sns.barplot(x=sales_by_country.values, y=sales_by_country.index, palette='viridis')\n",
    "plt.title('Total de Vendas por País')\n",
    "plt.xlabel('Total de Vendas')\n",
    "plt.ylabel('País')\n",
    "plt.tight_layout()\n",
    "plt.show()\n",
    "\n",
    "# Top 5 cidades por vendas\n",
    "top_cities = df.groupby('ship_city')['Amount'].sum().sort_values(ascending=False).head(5)\n",
    "plt.figure(figsize=(14, 7))\n",
    "sns.barplot(x=top_cities.values, y=top_cities.index, palette='viridis')\n",
    "plt.title('Top 5 Cidades por Vendas')\n",
    "plt.xlabel('Total de Vendas')\n",
    "plt.ylabel('Cidade')\n",
    "plt.tight_layout()\n",
    "plt.show()\n"
   ]
  }
 ],
 "metadata": {
  "language_info": {
   "name": "python"
  }
 },
 "nbformat": 4,
 "nbformat_minor": 2
}
