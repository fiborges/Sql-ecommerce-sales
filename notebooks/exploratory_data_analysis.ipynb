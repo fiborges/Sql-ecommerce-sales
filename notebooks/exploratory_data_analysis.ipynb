{
 "cells": [
  {
   "cell_type": "code",
   "execution_count": null,
   "metadata": {},
   "outputs": [],
   "source": [
    "import pandas as pd\n",
    "import matplotlib.pyplot as plt\n",
    "import seaborn as sns\n",
    "\n",
    "# Carregar dados\n",
    "df = pd.read_csv('../data/Amazon_Sale_Report.csv')\n",
    "\n",
    "# Converter a coluna de data\n",
    "df['Date'] = pd.to_datetime(df['Date'], format='%m-%d-%y')\n",
    "\n",
    "# Análise descritiva\n",
    "df.describe()\n",
    "\n",
    "# Verificar valores nulos\n",
    "df.isnull().sum()\n",
    "\n",
    "# Verificar duplicatas\n",
    "df.duplicated().sum()\n",
    "\n",
    "# Distribuição das vendas por status\n",
    "plt.figure(figsize=(10, 6))\n",
    "sns.countplot(x='Status', data=df)\n",
    "plt.title('Distribuição das Vendas por Status')\n",
    "plt.xlabel('Status')\n",
    "plt.ylabel('Contagem')\n",
    "plt.tight_layout()\n",
    "plt.show()\n",
    "\n",
    "# Distribuição das vendas por país\n",
    "plt.figure(figsize=(10, 6))\n",
    "sns.countplot(y='ship_country', data=df, order=df['ship_country'].value_counts().index)\n",
    "plt.title('Distribuição das Vendas por País')\n",
    "plt.xlabel('Contagem')\n",
    "plt.ylabel('País')\n",
    "plt.tight_layout()\n",
    "plt.show()\n"
   ]
  }
 ],
 "metadata": {
  "language_info": {
   "name": "python"
  }
 },
 "nbformat": 4,
 "nbformat_minor": 2
}
