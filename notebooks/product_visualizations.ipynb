{
 "cells": [
  {
   "cell_type": "code",
   "execution_count": null,
   "metadata": {},
   "outputs": [],
   "source": [
    "import pandas as pd\n",
    "import matplotlib.pyplot as plt\n",
    "import seaborn as sns\n",
    "\n",
    "# Carregar dados\n",
    "df = pd.read_csv('../data/Amazon_Sale_Report.csv')\n",
    "df['Date'] = pd.to_datetime(df['Date'], format='%m-%d-%y')\n",
    "\n",
    "# Receita por categoria de produto\n",
    "revenue_by_category = df.groupby('Category')['Amount'].sum().sort_values(ascending=False)\n",
    "plt.figure(figsize=(14, 7))\n",
    "sns.barplot(x=revenue_by_category.values, y=revenue_by_category.index, palette='viridis')\n",
    "plt.title('Receita por Categoria de Produto')\n",
    "plt.xlabel('Total de Receita')\n",
    "plt.ylabel('Categoria')\n",
    "plt.tight_layout()\n",
    "plt.show()\n"
   ]
  }
 ],
 "metadata": {
  "language_info": {
   "name": "python"
  }
 },
 "nbformat": 4,
 "nbformat_minor": 2
}
