{
 "cells": [
  {
   "cell_type": "code",
   "execution_count": null,
   "metadata": {},
   "outputs": [],
   "source": [
    "import pandas as pd\n",
    "import matplotlib.pyplot as plt\n",
    "import seaborn as sns\n",
    "\n",
    "# Carregar dados\n",
    "df = pd.read_csv('../data/Amazon_Sale_Report.csv')\n",
    "df['Date'] = pd.to_datetime(df['Date'], format='%m-%d-%y')\n",
    "\n",
    "# Vendas mensais\n",
    "monthly_sales = df.groupby(df['Date'].dt.to_period('M')).sum()['Amount']\n",
    "plt.figure(figsize=(14, 7))\n",
    "monthly_sales.plot(kind='bar', color='skyblue')\n",
    "plt.title('Vendas Mensais')\n",
    "plt.xlabel('Mês')\n",
    "plt.ylabel('Total de Vendas')\n",
    "plt.xticks(rotation=45)\n",
    "plt.tight_layout()\n",
    "plt.show()\n",
    "\n",
    "# Top 10 produtos mais vendidos\n",
    "top_products = df.groupby('SKU')['Qty'].sum().sort_values(ascending=False).head(10)\n",
    "plt.figure(figsize=(14, 7))\n",
    "sns.barplot(x=top_products.values, y=top_products.index, palette='viridis')\n",
    "plt.title('Top 10 Produtos Mais Vendidos')\n",
    "plt.xlabel('Quantidade Vendida')\n",
    "plt.ylabel('SKU')\n",
    "plt.tight_layout()\n",
    "plt.show()\n"
   ]
  }
 ],
 "metadata": {
  "language_info": {
   "name": "python"
  }
 },
 "nbformat": 4,
 "nbformat_minor": 2
}
